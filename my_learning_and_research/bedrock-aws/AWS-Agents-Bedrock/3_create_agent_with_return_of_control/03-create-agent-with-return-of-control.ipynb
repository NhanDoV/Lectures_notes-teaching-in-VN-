{
 "cells": [
  {
   "cell_type": "markdown",
   "id": "089569ae-9348-4442-8e2a-941a8e5c00ac",
   "metadata": {},
   "source": [
    "# Create Agent with Return of Control (ROC)\n",
    "\n",
    "In this notebook we will create an Agent for Amazon Bedrock using the new capabilities for function definition and return of control. \n",
    "\n",
    "We will use the HR agent as example. With this agent, you can check your available vacation days and request a new vacation leave. We will use a local function to define the logic that checks for the available vacation days and book new ones. Notice that this example does not need an API Schema file, nor does it need a Lambda function.\n",
    "\n",
    "For this example, we will generate some employee data using an [SQLite](https://www.sqlite.org/) database"
   ]
  },
  {
   "cell_type": "markdown",
   "id": "073fb566-1bb1-46ec-bdb3-7012a2e74714",
   "metadata": {},
   "source": [
    "## Pre-requisites\n",
    "Before starting, let's update the botocore and boto3 packages to ensure we have the latest version"
   ]
  },
  {
   "cell_type": "code",
   "execution_count": 3,
   "id": "c603ce06-61d8-4236-92e8-883e0d49cfea",
   "metadata": {
    "tags": []
   },
   "outputs": [
    {
     "name": "stdout",
     "output_type": "stream",
     "text": [
      "\u001b[33mWARNING: Running pip as the 'root' user can result in broken permissions and conflicting behaviour with the system package manager. It is recommended to use a virtual environment instead: https://pip.pypa.io/warnings/venv\u001b[0m\u001b[33m\n",
      "\u001b[0m\u001b[33mWARNING: Running pip as the 'root' user can result in broken permissions and conflicting behaviour with the system package manager. It is recommended to use a virtual environment instead: https://pip.pypa.io/warnings/venv\u001b[0m\u001b[33m\n",
      "\u001b[0m\u001b[33mWARNING: Running pip as the 'root' user can result in broken permissions and conflicting behaviour with the system package manager. It is recommended to use a virtual environment instead: https://pip.pypa.io/warnings/venv\u001b[0m\u001b[33m\n",
      "\u001b[0m"
     ]
    }
   ],
   "source": [
    "!python3 -m pip install --upgrade -q botocore\n",
    "!python3 -m pip install --upgrade -q boto3\n",
    "!python3 -m pip install --upgrade -q awscli"
   ]
  },
  {
   "cell_type": "markdown",
   "id": "b7f3bc3b-4db6-44bb-8d8e-3ea58e811111",
   "metadata": {},
   "source": [
    "Let's now check the boto3 version to ensure the correct version has been installed. Your version should be bigger or equal to 1.34.90."
   ]
  },
  {
   "cell_type": "code",
   "execution_count": 4,
   "id": "5255655e-d83e-416a-a459-83590483d22b",
   "metadata": {
    "tags": []
   },
   "outputs": [
    {
     "name": "stdout",
     "output_type": "stream",
     "text": [
      "1.35.0\n"
     ]
    }
   ],
   "source": [
    "import boto3\n",
    "import json\n",
    "import time\n",
    "import uuid\n",
    "import pprint\n",
    "import logging\n",
    "print(boto3.__version__)"
   ]
  },
  {
   "cell_type": "code",
   "execution_count": 5,
   "id": "593be615-dab2-4084-a518-ee905113bfc7",
   "metadata": {
    "tags": []
   },
   "outputs": [],
   "source": [
    "# setting logger\n",
    "logging.basicConfig(format='[%(asctime)s] p%(process)s {%(filename)s:%(lineno)d} %(levelname)s - %(message)s', level=logging.INFO)\n",
    "logger = logging.getLogger(__name__)"
   ]
  },
  {
   "cell_type": "markdown",
   "id": "52dad4b8-c2e0-44cf-99ee-5c2a7e1a600f",
   "metadata": {},
   "source": [
    "Let's now create the boto3 clients for the required AWS services"
   ]
  },
  {
   "cell_type": "code",
   "execution_count": 6,
   "id": "67883027-bbb5-42a6-955d-0aa019a8e4b3",
   "metadata": {
    "tags": []
   },
   "outputs": [],
   "source": [
    "# getting boto3 clients for required AWS services\n",
    "sts_client = boto3.client('sts')\n",
    "iam_client = boto3.client('iam')\n",
    "bedrock_agent_client = boto3.client('bedrock-agent')\n",
    "bedrock_agent_runtime_client = boto3.client('bedrock-agent-runtime')"
   ]
  },
  {
   "cell_type": "markdown",
   "id": "71505c3b-c2a5-47dc-a427-77f21ab50f0d",
   "metadata": {},
   "source": [
    "Next we can set some configuration variables for the agent"
   ]
  },
  {
   "cell_type": "code",
   "execution_count": 7,
   "id": "f6af5cd4-33b8-40c3-9d99-1790540eb60c",
   "metadata": {
    "tags": []
   },
   "outputs": [
    {
     "data": {
      "text/plain": [
       "('us-west-2', '246306155015')"
      ]
     },
     "execution_count": 7,
     "metadata": {},
     "output_type": "execute_result"
    }
   ],
   "source": [
    "session = boto3.session.Session()\n",
    "region = session.region_name\n",
    "account_id = sts_client.get_caller_identity()[\"Account\"]\n",
    "region, account_id"
   ]
  },
  {
   "cell_type": "code",
   "execution_count": 8,
   "id": "0dcb5332-c035-435a-91e5-838ec95d9a7d",
   "metadata": {
    "tags": []
   },
   "outputs": [],
   "source": [
    "# configuration variables\n",
    "suffix = f\"{region}-{account_id}\"\n",
    "agent_name = \"hr-assistant-function-roc\"\n",
    "agent_bedrock_allow_policy_name = f\"{agent_name}-ba-{suffix}\"\n",
    "agent_role_name = f'AmazonBedrockExecutionRoleForAgents_{agent_name}'\n",
    "agent_foundation_model = \"anthropic.claude-3-sonnet-20240229-v1:0\"\n",
    "agent_description = \"Agent for providing HR assistance to book holidays\"\n",
    "agent_instruction = \"You are an HR agent, helping employees understand HR policies and manage vacation time\"\n",
    "agent_action_group_name = \"VacationsActionGroup\"\n",
    "agent_action_group_description = \"Actions for getting the number of available vactions days for an employee and book new vacations in the system\"\n",
    "agent_alias_name = f\"{agent_name}-alias\""
   ]
  },
  {
   "cell_type": "markdown",
   "id": "87aa9665-7cab-4794-b496-fd84a8a7972b",
   "metadata": {},
   "source": [
    "## Create Agent\n",
    "We will now create the agent. To do so, we first need to create the agent policies that allow bedrock model invocation and the agent IAM role with the policy associated to it. We will allow this agent to invoke the Claude Sonnet model"
   ]
  },
  {
   "cell_type": "code",
   "execution_count": 9,
   "id": "10ffd724-3d1b-4916-8513-466c5dd03fcc",
   "metadata": {
    "tags": []
   },
   "outputs": [],
   "source": [
    "# Create IAM policies for agent\n",
    "bedrock_agent_bedrock_allow_policy_statement = {\n",
    "    \"Version\": \"2012-10-17\",\n",
    "    \"Statement\": [\n",
    "        {\n",
    "            \"Sid\": \"AmazonBedrockAgentBedrockFoundationModelPolicy\",\n",
    "            \"Effect\": \"Allow\",\n",
    "            \"Action\": \"bedrock:InvokeModel\",\n",
    "            \"Resource\": [\n",
    "                f\"arn:aws:bedrock:{region}::foundation-model/{agent_foundation_model}\"\n",
    "            ]\n",
    "        }\n",
    "    ]\n",
    "}\n",
    "\n",
    "bedrock_policy_json = json.dumps(bedrock_agent_bedrock_allow_policy_statement)\n",
    "\n",
    "agent_bedrock_policy = iam_client.create_policy(\n",
    "    PolicyName=agent_bedrock_allow_policy_name,\n",
    "    PolicyDocument=bedrock_policy_json\n",
    ")\n",
    "\n"
   ]
  },
  {
   "cell_type": "code",
   "execution_count": 10,
   "id": "83f3cf61-e65b-4c61-8a66-76bd5946eb32",
   "metadata": {
    "tags": []
   },
   "outputs": [
    {
     "data": {
      "text/plain": [
       "{'ResponseMetadata': {'RequestId': 'a11c69c5-0232-4f5b-9b59-816cd24ad1ef',\n",
       "  'HTTPStatusCode': 200,\n",
       "  'HTTPHeaders': {'date': 'Mon, 19 Aug 2024 03:45:42 GMT',\n",
       "   'x-amzn-requestid': 'a11c69c5-0232-4f5b-9b59-816cd24ad1ef',\n",
       "   'content-type': 'text/xml',\n",
       "   'content-length': '212'},\n",
       "  'RetryAttempts': 0}}"
      ]
     },
     "execution_count": 10,
     "metadata": {},
     "output_type": "execute_result"
    }
   ],
   "source": [
    "# Create IAM Role for the agent and attach IAM policies\n",
    "assume_role_policy_document = {\n",
    "    \"Version\": \"2012-10-17\",\n",
    "    \"Statement\": [{\n",
    "          \"Effect\": \"Allow\",\n",
    "          \"Principal\": {\n",
    "            \"Service\": \"bedrock.amazonaws.com\"\n",
    "          },\n",
    "          \"Action\": \"sts:AssumeRole\"\n",
    "    }]\n",
    "}\n",
    "\n",
    "assume_role_policy_document_json = json.dumps(assume_role_policy_document)\n",
    "agent_role = iam_client.create_role(\n",
    "    RoleName=agent_role_name,\n",
    "    AssumeRolePolicyDocument=assume_role_policy_document_json\n",
    ")\n",
    "\n",
    "# Pause to make sure role is created\n",
    "time.sleep(10)\n",
    "    \n",
    "iam_client.attach_role_policy(\n",
    "    RoleName=agent_role_name,\n",
    "    PolicyArn=agent_bedrock_policy['Policy']['Arn']\n",
    ")"
   ]
  },
  {
   "cell_type": "markdown",
   "id": "6083fe88-05af-4455-9744-e9593fc784f3",
   "metadata": {},
   "source": [
    "### Creating agent\n",
    "Once the needed IAM role is created, we can use the Bedrock agent client to create a new agent. To do so we use the `create_agent` function. It requires an agent name, underlying foundation model and instructions. You can also provide an agent description. Note that the agent created is not yet prepared. We will focus on preparing the agent and then using it to invoke actions and use other APIs."
   ]
  },
  {
   "cell_type": "code",
   "execution_count": 11,
   "id": "6251ebaa-693d-4fee-b28c-2b0692d94ae5",
   "metadata": {
    "tags": []
   },
   "outputs": [
    {
     "data": {
      "text/plain": [
       "{'ResponseMetadata': {'RequestId': '6e132cca-7680-4806-aae6-96265cebff55',\n",
       "  'HTTPStatusCode': 202,\n",
       "  'HTTPHeaders': {'date': 'Mon, 19 Aug 2024 03:45:43 GMT',\n",
       "   'content-type': 'application/json',\n",
       "   'content-length': '637',\n",
       "   'connection': 'keep-alive',\n",
       "   'x-amzn-requestid': '6e132cca-7680-4806-aae6-96265cebff55',\n",
       "   'x-amz-apigw-id': 'cvLsKGNIvHcErDw=',\n",
       "   'x-amzn-trace-id': 'Root=1-66c2bfe7-65480dbc4439057961962012'},\n",
       "  'RetryAttempts': 0},\n",
       " 'agent': {'agentArn': 'arn:aws:bedrock:us-west-2:246306155015:agent/QAXKSKM0LU',\n",
       "  'agentId': 'QAXKSKM0LU',\n",
       "  'agentName': 'hr-assistant-function-roc',\n",
       "  'agentResourceRoleArn': 'arn:aws:iam::246306155015:role/AmazonBedrockExecutionRoleForAgents_hr-assistant-function-roc',\n",
       "  'agentStatus': 'CREATING',\n",
       "  'createdAt': datetime.datetime(2024, 8, 19, 3, 45, 43, 260027, tzinfo=tzlocal()),\n",
       "  'description': 'Agent for providing HR assistance to book holidays',\n",
       "  'foundationModel': 'anthropic.claude-3-sonnet-20240229-v1:0',\n",
       "  'idleSessionTTLInSeconds': 1800,\n",
       "  'instruction': 'You are an HR agent, helping employees understand HR policies and manage vacation time',\n",
       "  'updatedAt': datetime.datetime(2024, 8, 19, 3, 45, 43, 260027, tzinfo=tzlocal())}}"
      ]
     },
     "execution_count": 11,
     "metadata": {},
     "output_type": "execute_result"
    }
   ],
   "source": [
    "response = bedrock_agent_client.create_agent(\n",
    "    agentName=agent_name,\n",
    "    agentResourceRoleArn=agent_role['Role']['Arn'],\n",
    "    description=agent_description,\n",
    "    idleSessionTTLInSeconds=1800,\n",
    "    foundationModel=agent_foundation_model,\n",
    "    instruction=agent_instruction,\n",
    ")\n",
    "response"
   ]
  },
  {
   "cell_type": "markdown",
   "id": "55a44f69-64ae-45ce-8961-41cf4363f271",
   "metadata": {},
   "source": [
    "Let's now store the agent id in a local variable to use it on the next steps"
   ]
  },
  {
   "cell_type": "code",
   "execution_count": 12,
   "id": "0774ea09-6ccf-476d-b2bb-c8265b614f60",
   "metadata": {
    "tags": []
   },
   "outputs": [
    {
     "data": {
      "text/plain": [
       "'QAXKSKM0LU'"
      ]
     },
     "execution_count": 12,
     "metadata": {},
     "output_type": "execute_result"
    }
   ],
   "source": [
    "agent_id = response['agent']['agentId']\n",
    "agent_id"
   ]
  },
  {
   "cell_type": "markdown",
   "id": "65efbf63-fbdb-4220-ab89-c7af740447ef",
   "metadata": {},
   "source": [
    "## Create Agent Action Group\n",
    "We will now create an agent action group. The [`create_agent_action_group`](https://boto3.amazonaws.com/v1/documentation/api/latest/reference/services/bedrock-agent/client/create_agent_action_group.html) function provides this functionality. We will use `DRAFT` as the agent version since we haven't yet create an agent version or alias. To inform the agent about the action group functionalities, we will provide an action group description containing the functionalities of the action group.\n",
    "\n",
    "In this example, we will provide the Action Group functionality using a `functionSchema`. You can also provide and `APISchema`. The notebook [02-create-agent-with-api-schema.ipynb](02-create-agent-with-api-schema/02-create-agent-with-api-schema.ipynb) provides an example of it.\n",
    "\n",
    "To define the functions using a function schema, you need to provide the `name`, `description` and `parameters` for each function."
   ]
  },
  {
   "cell_type": "code",
   "execution_count": 13,
   "id": "a99e5855-fe22-450b-889a-da73e44fdc30",
   "metadata": {
    "tags": []
   },
   "outputs": [],
   "source": [
    "agent_functions = [\n",
    "    {\n",
    "        'name': 'get_available_vacations_days',\n",
    "        'description': 'get the number of vacations available for a certain employee',\n",
    "        'parameters': {\n",
    "            \"employee_id\": {\n",
    "                \"description\": \"the id of the employee to get the available vacations\",\n",
    "                \"required\": True,\n",
    "                \"type\": \"integer\"\n",
    "            }\n",
    "        }\n",
    "    },\n",
    "    {\n",
    "        'name': 'reserve_vacation_time',\n",
    "        'description': 'reserve vacation time for a specific employee - you need all parameters to reserve vacation time',\n",
    "        'parameters': {\n",
    "            \"employee_id\": {\n",
    "                \"description\": \"the id of the employee for which time off will be reserved\",\n",
    "                \"required\": True,\n",
    "                \"type\": \"integer\"\n",
    "            },\n",
    "            \"start_date\": {\n",
    "                \"description\": \"the start date for the vacation time\",\n",
    "                \"required\": True,\n",
    "                \"type\": \"string\"\n",
    "            },\n",
    "            \"end_date\": {\n",
    "                \"description\": \"the end date for the vacation time\",\n",
    "                \"required\": True,\n",
    "                \"type\": \"string\"\n",
    "            }\n",
    "        }\n",
    "    },\n",
    "]"
   ]
  },
  {
   "cell_type": "markdown",
   "id": "d8f38cf9",
   "metadata": {},
   "source": [
    "Here we create the action group with a `customContrl` executor of `RETURN_CONTROL`. This lets the agent know that instead of executing the function, it should simply return the appropriate function and parameters. The client application is then responsible for executing the function."
   ]
  },
  {
   "cell_type": "code",
   "execution_count": 14,
   "id": "d474b3e7-8501-48ed-82d1-f8a3792227a4",
   "metadata": {
    "tags": []
   },
   "outputs": [],
   "source": [
    "# Pause to make sure agent is created\n",
    "time.sleep(30)\n",
    "# Now, we can configure and create an action group here:\n",
    "agent_action_group_response = bedrock_agent_client.create_agent_action_group(\n",
    "    agentId=agent_id,\n",
    "    agentVersion='DRAFT',\n",
    "    actionGroupExecutor={\n",
    "        'customControl': 'RETURN_CONTROL'\n",
    "    },\n",
    "    actionGroupName=agent_action_group_name,\n",
    "    functionSchema={\n",
    "        'functions': agent_functions\n",
    "    },\n",
    "    description=agent_action_group_description\n",
    ")"
   ]
  },
  {
   "cell_type": "code",
   "execution_count": 15,
   "id": "22feec4a-d3ec-48f6-9e33-e5a09f08701e",
   "metadata": {
    "tags": []
   },
   "outputs": [
    {
     "data": {
      "text/plain": [
       "{'ResponseMetadata': {'RequestId': '4622d654-5f7d-4e03-8021-85f1d9e380a4',\n",
       "  'HTTPStatusCode': 200,\n",
       "  'HTTPHeaders': {'date': 'Mon, 19 Aug 2024 03:46:13 GMT',\n",
       "   'content-type': 'application/json',\n",
       "   'content-length': '1206',\n",
       "   'connection': 'keep-alive',\n",
       "   'x-amzn-requestid': '4622d654-5f7d-4e03-8021-85f1d9e380a4',\n",
       "   'x-amz-apigw-id': 'cvLw6FFRPHcEd_w=',\n",
       "   'x-amzn-trace-id': 'Root=1-66c2c005-24dbaf934406225c6278e4a1'},\n",
       "  'RetryAttempts': 0},\n",
       " 'agentActionGroup': {'actionGroupExecutor': {'customControl': 'RETURN_CONTROL'},\n",
       "  'actionGroupId': 'HJGQMPYFZG',\n",
       "  'actionGroupName': 'VacationsActionGroup',\n",
       "  'actionGroupState': 'ENABLED',\n",
       "  'agentId': 'QAXKSKM0LU',\n",
       "  'agentVersion': 'DRAFT',\n",
       "  'createdAt': datetime.datetime(2024, 8, 19, 3, 46, 13, 706904, tzinfo=tzlocal()),\n",
       "  'description': 'Actions for getting the number of available vactions days for an employee and book new vacations in the system',\n",
       "  'functionSchema': {'functions': [{'description': 'get the number of vacations available for a certain employee',\n",
       "     'name': 'get_available_vacations_days',\n",
       "     'parameters': {'employee_id': {'description': 'the id of the employee to get the available vacations',\n",
       "       'required': True,\n",
       "       'type': 'integer'}}},\n",
       "    {'description': 'reserve vacation time for a specific employee - you need all parameters to reserve vacation time',\n",
       "     'name': 'reserve_vacation_time',\n",
       "     'parameters': {'employee_id': {'description': 'the id of the employee for which time off will be reserved',\n",
       "       'required': True,\n",
       "       'type': 'integer'},\n",
       "      'end_date': {'description': 'the end date for the vacation time',\n",
       "       'required': True,\n",
       "       'type': 'string'},\n",
       "      'start_date': {'description': 'the start date for the vacation time',\n",
       "       'required': True,\n",
       "       'type': 'string'}}}]},\n",
       "  'updatedAt': datetime.datetime(2024, 8, 19, 3, 46, 13, 706904, tzinfo=tzlocal())}}"
      ]
     },
     "execution_count": 15,
     "metadata": {},
     "output_type": "execute_result"
    }
   ],
   "source": [
    "agent_action_group_response"
   ]
  },
  {
   "cell_type": "markdown",
   "id": "2b3bab10-e5dc-4138-a9ff-76b2ff2ff9e6",
   "metadata": {},
   "source": [
    "## Preparing Agent\n",
    "\n",
    "Let's create a DRAFT version of the agent that can be used for internal testing.\n"
   ]
  },
  {
   "cell_type": "code",
   "execution_count": 16,
   "id": "e7094e7f-915a-4396-8d98-c3bfee3ccf1e",
   "metadata": {
    "tags": []
   },
   "outputs": [
    {
     "name": "stdout",
     "output_type": "stream",
     "text": [
      "{'ResponseMetadata': {'RequestId': '5fdc5b4a-5cb0-49d9-bc8e-c00a32020a68', 'HTTPStatusCode': 202, 'HTTPHeaders': {'date': 'Mon, 19 Aug 2024 03:46:14 GMT', 'content-type': 'application/json', 'content-length': '119', 'connection': 'keep-alive', 'x-amzn-requestid': '5fdc5b4a-5cb0-49d9-bc8e-c00a32020a68', 'x-amz-apigw-id': 'cvLw9HFGvHcECzA=', 'x-amzn-trace-id': 'Root=1-66c2c005-5188e63a249d329b0c5ab0b9'}, 'RetryAttempts': 0}, 'agentId': 'QAXKSKM0LU', 'agentStatus': 'PREPARING', 'agentVersion': 'DRAFT', 'preparedAt': datetime.datetime(2024, 8, 19, 3, 46, 14, 81745, tzinfo=tzlocal())}\n"
     ]
    }
   ],
   "source": [
    "response = bedrock_agent_client.prepare_agent(\n",
    "    agentId=agent_id\n",
    ")\n",
    "print(response)"
   ]
  },
  {
   "cell_type": "markdown",
   "id": "80f2be3a-007e-4278-b8cc-4ffd7222234b",
   "metadata": {},
   "source": [
    "## Invoke Agent\n",
    "\n",
    "Now that we've created the agent, let's use the `bedrock-agent-runtime` client to invoke this agent and perform some tasks."
   ]
  },
  {
   "cell_type": "code",
   "execution_count": 17,
   "id": "7989d709",
   "metadata": {},
   "outputs": [],
   "source": [
    "# Pause to make sure agent is prepared\n",
    "time.sleep(30)\n",
    "\n",
    "# Extract the agentAliasId from the response\n",
    "agent_alias_id = \"TSTALIASID\""
   ]
  },
  {
   "cell_type": "code",
   "execution_count": 18,
   "id": "22bfea60-67fd-43ea-b7a1-7ca5668cb36f",
   "metadata": {
    "tags": []
   },
   "outputs": [
    {
     "name": "stderr",
     "output_type": "stream",
     "text": [
      "[2024-08-19 03:46:44,268] p136 {1642973948.py:18} INFO - None\n"
     ]
    },
    {
     "name": "stdout",
     "output_type": "stream",
     "text": [
      "{'ResponseMetadata': {'HTTPHeaders': {'connection': 'keep-alive',\n",
      "                                      'content-type': 'application/json',\n",
      "                                      'date': 'Mon, 19 Aug 2024 03:46:44 GMT',\n",
      "                                      'transfer-encoding': 'chunked',\n",
      "                                      'x-amz-bedrock-agent-session-id': 'a6f17c1e-5ddd-11ef-979b-8a6da4867660',\n",
      "                                      'x-amzn-bedrock-agent-content-type': 'application/json',\n",
      "                                      'x-amzn-requestid': '0c71849c-569e-431e-ac1b-4b6baf7f05bc'},\n",
      "                      'HTTPStatusCode': 200,\n",
      "                      'RequestId': '0c71849c-569e-431e-ac1b-4b6baf7f05bc',\n",
      "                      'RetryAttempts': 0},\n",
      " 'completion': <botocore.eventstream.EventStream object at 0x7f7beb7a4a30>,\n",
      " 'contentType': 'application/json',\n",
      " 'sessionId': 'a6f17c1e-5ddd-11ef-979b-8a6da4867660'}\n"
     ]
    }
   ],
   "source": [
    "## create a random id for session initiator id\n",
    "session_id:str = str(uuid.uuid1())\n",
    "enable_trace:bool = False\n",
    "end_session:bool = False\n",
    "# Pause to make sure agent alias is ready\n",
    "# time.sleep(30)\n",
    "\n",
    "# invoke the agent API\n",
    "agentResponse = bedrock_agent_runtime_client.invoke_agent(\n",
    "    inputText=\"how much vacation time does employee 1 have available?\",\n",
    "    agentId=agent_id,\n",
    "    agentAliasId=agent_alias_id, \n",
    "    sessionId=session_id,\n",
    "    enableTrace=enable_trace, \n",
    "    endSession= end_session\n",
    ")\n",
    "\n",
    "logger.info(pprint.pprint(agentResponse))"
   ]
  },
  {
   "cell_type": "code",
   "execution_count": 19,
   "id": "653747cc-301f-40a7-b8cf-058d7b0d75b3",
   "metadata": {
    "tags": []
   },
   "outputs": [
    {
     "name": "stdout",
     "output_type": "stream",
     "text": [
      "{'returnControl': {'invocationId': '9b1f946d-6368-47d8-b925-2093560c22eb',\n",
      "                   'invocationInputs': [{'functionInvocationInput': {'actionGroup': 'VacationsActionGroup',\n",
      "                                                                     'function': 'get_available_vacations_days',\n",
      "                                                                     'parameters': [{'name': 'employee_id',\n",
      "                                                                                     'type': 'integer',\n",
      "                                                                                     'value': '1'}]}}]}}\n",
      "CPU times: user 3.38 ms, sys: 0 ns, total: 3.38 ms\n",
      "Wall time: 3.81 s\n"
     ]
    }
   ],
   "source": [
    "%%time\n",
    "event_stream = agentResponse['completion']\n",
    "for event in event_stream:\n",
    "    if 'returnControl' in event:\n",
    "        pprint.pp(event)"
   ]
  },
  {
   "cell_type": "markdown",
   "id": "0c7d332b-615b-46af-951f-d98d2174e6bf",
   "metadata": {
    "tags": []
   },
   "source": [
    "## Defining function implementation\n",
    "\n",
    "Let's now implement our functions to get the vacation information for an employee_id and to book a vacation for an employee_id between start_date and end_dates.\n",
    "\n",
    "To do so, we will first create an SQLite database with generated data"
   ]
  },
  {
   "cell_type": "code",
   "execution_count": 20,
   "id": "8bf0fc45-3d5a-4a0e-bb2f-d37a400a438b",
   "metadata": {
    "tags": []
   },
   "outputs": [],
   "source": [
    "# creating employee database to be used by lambda function\n",
    "import sqlite3\n",
    "import random\n",
    "from datetime import date, timedelta\n",
    "\n",
    "# Connect to the SQLite database (creates a new one if it doesn't exist)\n",
    "conn = sqlite3.connect('employee_database.db')\n",
    "c = conn.cursor()\n",
    "\n",
    "# Create the employees table\n",
    "c.execute('''CREATE TABLE IF NOT EXISTS employees\n",
    "                (employee_id INTEGER PRIMARY KEY AUTOINCREMENT, employee_name TEXT, employee_job_title TEXT, employee_start_date TEXT, employee_employment_status TEXT)''')\n",
    "\n",
    "# Create the vacations table\n",
    "c.execute('''CREATE TABLE IF NOT EXISTS vacations\n",
    "                (employee_id INTEGER, year INTEGER, employee_total_vacation_days INTEGER, employee_vacation_days_taken INTEGER, employee_vacation_days_available INTEGER, FOREIGN KEY(employee_id) REFERENCES employees(employee_id))''')\n",
    "\n",
    "# Create the planned_vacations table\n",
    "c.execute('''CREATE TABLE IF NOT EXISTS planned_vacations\n",
    "                (employee_id INTEGER, vacation_start_date TEXT, vacation_end_date TEXT, vacation_days_taken INTEGER, FOREIGN KEY(employee_id) REFERENCES employees(employee_id))''')\n",
    "\n",
    "# Generate some random data for 10 employees\n",
    "employee_names = ['John Doe', 'Jane Smith', 'Bob Johnson', 'Alice Williams', 'Tom Brown', 'Emily Davis', 'Michael Wilson', 'Sarah Taylor', 'David Anderson', 'Jessica Thompson']\n",
    "job_titles = ['Manager', 'Developer', 'Designer', 'Analyst', 'Accountant', 'Sales Representative']\n",
    "employment_statuses = ['Active', 'Inactive']\n",
    "\n",
    "for i in range(10):\n",
    "    name = employee_names[i]\n",
    "    job_title = random.choice(job_titles)\n",
    "    start_date = date(2015 + random.randint(0, 7), random.randint(1, 12), random.randint(1, 28)).strftime('%Y-%m-%d')\n",
    "    employment_status = random.choice(employment_statuses)\n",
    "    c.execute(\"INSERT INTO employees (employee_name, employee_job_title, employee_start_date, employee_employment_status) VALUES (?, ?, ?, ?)\", (name, job_title, start_date, employment_status))\n",
    "    employee_id = c.lastrowid\n",
    "\n",
    "    # Generate vacation data for the current employee\n",
    "    for year in range(date.today().year, date.today().year - 3, -1):\n",
    "        total_vacation_days = random.randint(10, 30)\n",
    "        days_taken = random.randint(0, total_vacation_days)\n",
    "        days_available = total_vacation_days - days_taken\n",
    "        c.execute(\"INSERT INTO vacations (employee_id, year, employee_total_vacation_days, employee_vacation_days_taken, employee_vacation_days_available) VALUES (?, ?, ?, ?, ?)\", (employee_id, year, total_vacation_days, days_taken, days_available))\n",
    "\n",
    "        # Generate some planned vacations for the current employee and year\n",
    "        num_planned_vacations = random.randint(0, 3)\n",
    "        for _ in range(num_planned_vacations):\n",
    "            start_date = date(year, random.randint(1, 12), random.randint(1, 28)).strftime('%Y-%m-%d')\n",
    "            end_date = (date(int(start_date[:4]), int(start_date[5:7]), int(start_date[8:])) + timedelta(days=random.randint(1, 14))).strftime('%Y-%m-%d')\n",
    "            days_taken = (date(int(end_date[:4]), int(end_date[5:7]), int(end_date[8:])) - date(int(start_date[:4]), int(start_date[5:7]), int(start_date[8:])))\n",
    "            c.execute(\"INSERT INTO planned_vacations (employee_id, vacation_start_date, vacation_end_date, vacation_days_taken) VALUES (?, ?, ?, ?)\", (employee_id, start_date, end_date, days_taken.days))\n",
    "\n",
    "# Commit the changes and close the connection\n",
    "conn.commit()\n",
    "conn.close()"
   ]
  },
  {
   "cell_type": "markdown",
   "id": "67dabd90-2d6e-4514-a214-7a161a90da8b",
   "metadata": {},
   "source": [
    "Next let's use the generated file `employee_database.db` to provide the results for our query by implementing `get_available_vacations_days` and `reserve_vacation_time`"
   ]
  },
  {
   "cell_type": "code",
   "execution_count": 21,
   "id": "802143a1-8f84-4fbf-86ed-281dfbd5984b",
   "metadata": {
    "tags": []
   },
   "outputs": [],
   "source": [
    "import sqlite3\n",
    "\n",
    "def get_available_vacations_days(employee_id):\n",
    "    # Connect to the SQLite database\n",
    "    conn = sqlite3.connect('employee_database.db')\n",
    "    c = conn.cursor()\n",
    "\n",
    "    if employee_id:\n",
    "\n",
    "        # Fetch the available vacation days for the employee\n",
    "        c.execute(\"\"\"\n",
    "            SELECT employee_vacation_days_available\n",
    "            FROM vacations\n",
    "            WHERE employee_id = ?\n",
    "            ORDER BY year DESC\n",
    "            LIMIT 1\n",
    "        \"\"\", (employee_id,))\n",
    "\n",
    "        available_vacation_days = c.fetchone()\n",
    "\n",
    "        if available_vacation_days:\n",
    "            available_vacation_days = available_vacation_days[0]  # Unpack the tuple\n",
    "            print(f\"Available vacation days for employed_id {employee_id}: {available_vacation_days}\")\n",
    "            conn.close()\n",
    "            return available_vacation_days\n",
    "        else:\n",
    "            return_msg = f\"No vacation data found for employed_id {employee_id}\"\n",
    "            print(return_msg)\n",
    "            conn.close()\n",
    "            return return_msg\n",
    "    else:\n",
    "        conn.close()\n",
    "        raise Exception(f\"No employeed id provided\")\n",
    "    \n",
    "    \n",
    "def reserve_vacation_time(employee_id, start_date, end_date):\n",
    "    # Connect to the SQLite database\n",
    "    conn = sqlite3.connect('employee_database.db')\n",
    "    c = conn.cursor()\n",
    "    try:\n",
    "        # Calculate the number of vacation days\n",
    "        start_date = datetime.strptime(start_date, '%Y-%m-%d')\n",
    "        end_date = datetime.strptime(end_date, '%Y-%m-%d')\n",
    "        vacation_days = (end_date - start_date).days + 1\n",
    "\n",
    "        # Get the current year\n",
    "        current_year = start_date.year\n",
    "\n",
    "        # Check if the employee exists\n",
    "        c.execute(\"SELECT * FROM employees WHERE employee_id = ?\", (employee_id,))\n",
    "        employee = c.fetchone()\n",
    "        if employee is None:\n",
    "            return_msg = f\"Employee with ID {employee_id} does not exist.\"\n",
    "            print(return_msg)\n",
    "            conn.close()\n",
    "            return return_msg\n",
    "\n",
    "        # Check if the vacation days are available for the employee in the current year\n",
    "        c.execute(\"SELECT employee_vacation_days_available FROM vacations WHERE employee_id = ? AND year = ?\", (employee_id, current_year))\n",
    "        available_days = c.fetchone()\n",
    "        if available_days is None or available_days[0] < vacation_days:\n",
    "            return_msg = f\"Employee with ID {employee_id} does not have enough vacation days available for the requested period.\"\n",
    "            print(return_msg)\n",
    "            conn.close()\n",
    "            return return_msg\n",
    "\n",
    "        # Insert the new vacation into the planned_vacations table\n",
    "        c.execute(\"INSERT INTO planned_vacations (employee_id, vacation_start_date, vacation_end_date, vacation_days_taken) VALUES (?, ?, ?, ?)\", (employee_id, start_date, end_date, vacation_days))\n",
    "\n",
    "        # Update the vacations table with the new vacation days taken\n",
    "        c.execute(\"UPDATE vacations SET employee_vacation_days_taken = employee_vacation_days_taken + ?, employee_vacation_days_available = employee_vacation_days_available - ? WHERE employee_id = ? AND year = ?\", (vacation_days, vacation_days, employee_id, current_year))\n",
    "\n",
    "        conn.commit()\n",
    "        print(f\"Vacation booked successfully for employee with ID {employee_id} from {start_date} to {end_date}.\")\n",
    "        # Close the database connection\n",
    "        conn.close()\n",
    "        return f\"Vacation booked successfully for employee with ID {employee_id} from {start_date} to {end_date}.\"\n",
    "    except Exception as e:\n",
    "        conn.rollback()\n",
    "        # Close the database connection\n",
    "        conn.close()\n",
    "        raise Exception(f\"Error occurred: {e}\")"
   ]
  },
  {
   "cell_type": "code",
   "execution_count": 22,
   "id": "1edd16f5-c323-4248-8a06-fc27836805c2",
   "metadata": {
    "tags": []
   },
   "outputs": [
    {
     "name": "stdout",
     "output_type": "stream",
     "text": [
      "get_available_vacations_days\n"
     ]
    }
   ],
   "source": [
    "print(event[\"returnControl\"][\"invocationInputs\"][0][\"functionInvocationInput\"][\"function\"])"
   ]
  },
  {
   "cell_type": "markdown",
   "id": "1e283ce6-e969-4ae9-9c48-6d0f2c3363eb",
   "metadata": {},
   "source": [
    "We can now call the `get_available_vacations_days` function with the parameters provided by the agent"
   ]
  },
  {
   "cell_type": "code",
   "execution_count": 23,
   "id": "b80daec2-35cc-408c-9106-7dbfd3e786b6",
   "metadata": {
    "tags": []
   },
   "outputs": [
    {
     "name": "stdout",
     "output_type": "stream",
     "text": [
      "Available vacation days for employed_id 1: 13\n"
     ]
    },
    {
     "data": {
      "text/plain": [
       "13"
      ]
     },
     "execution_count": 23,
     "metadata": {},
     "output_type": "execute_result"
    }
   ],
   "source": [
    "available_vacation_days = None\n",
    "for invocationInput in event[\"returnControl\"][\"invocationInputs\"]:\n",
    "    function_to_call = invocationInput[\"functionInvocationInput\"][\"function\"]\n",
    "    if function_to_call == \"get_available_vacations_days\":\n",
    "        employee_id = None\n",
    "        for param in invocationInput[\"functionInvocationInput\"][\"parameters\"]:\n",
    "            if param[\"name\"] == \"employee_id\":\n",
    "                employee_id = param[\"value\"]\n",
    "        if employee_id:\n",
    "            available_vacation_days = get_available_vacations_days(employee_id)\n",
    "available_vacation_days"
   ]
  },
  {
   "cell_type": "markdown",
   "id": "aba85806-9599-46c3-a235-73c7e5ee4c29",
   "metadata": {},
   "source": [
    "# Invoking the agent with the function results\n",
    "Finally, we need to invoke the agent passing the function results as a parameter. This lets us use the agent for generating the final response."
   ]
  },
  {
   "cell_type": "code",
   "execution_count": 24,
   "id": "cd8c9e89-3b1d-425c-ba97-a2b2da2f2974",
   "metadata": {
    "tags": []
   },
   "outputs": [],
   "source": [
    "raw_response_with_roc = bedrock_agent_runtime_client.invoke_agent(\n",
    "    agentId=agent_id,\n",
    "    agentAliasId=agent_alias_id, \n",
    "    sessionId=session_id,\n",
    "    enableTrace=enable_trace, \n",
    "    sessionState={\n",
    "        'invocationId': event[\"returnControl\"][\"invocationId\"],\n",
    "        'returnControlInvocationResults': [{\n",
    "                'functionResult': {\n",
    "                    'actionGroup': event[\"returnControl\"][\"invocationInputs\"][0][\"functionInvocationInput\"][\"actionGroup\"],\n",
    "                    'function': event[\"returnControl\"][\"invocationInputs\"][0][\"functionInvocationInput\"][\"function\"],\n",
    "                    'responseBody': {\n",
    "                        \"TEXT\": {\n",
    "                            'body': \"available_vacation_days: \"+str(available_vacation_days)\n",
    "                        }\n",
    "                    }\n",
    "                }\n",
    "        }]}\n",
    ")"
   ]
  },
  {
   "cell_type": "code",
   "execution_count": 25,
   "id": "52cd8383-53d4-43ab-bfec-4eddf0eb3e2e",
   "metadata": {
    "tags": []
   },
   "outputs": [
    {
     "name": "stdout",
     "output_type": "stream",
     "text": [
      "{'ResponseMetadata': {'RequestId': 'bbe225ee-b9a1-42f5-a914-680601548280', 'HTTPStatusCode': 200, 'HTTPHeaders': {'date': 'Mon, 19 Aug 2024 03:46:48 GMT', 'content-type': 'application/json', 'transfer-encoding': 'chunked', 'connection': 'keep-alive', 'x-amzn-requestid': 'bbe225ee-b9a1-42f5-a914-680601548280', 'x-amz-bedrock-agent-session-id': 'a6f17c1e-5ddd-11ef-979b-8a6da4867660', 'x-amzn-bedrock-agent-content-type': 'application/json'}, 'RetryAttempts': 0}, 'contentType': 'application/json', 'sessionId': 'a6f17c1e-5ddd-11ef-979b-8a6da4867660', 'completion': <botocore.eventstream.EventStream object at 0x7f7beb7a7580>}\n"
     ]
    }
   ],
   "source": [
    "print(raw_response_with_roc)"
   ]
  },
  {
   "cell_type": "code",
   "execution_count": 26,
   "id": "b8749225-c600-48fa-b060-79b16ef84f74",
   "metadata": {
    "tags": []
   },
   "outputs": [
    {
     "name": "stdout",
     "output_type": "stream",
     "text": [
      "{'chunk': {'bytes': b'Employee 1 has 13 available vacation days.'}}\n",
      "CPU times: user 2.35 ms, sys: 360 µs, total: 2.71 ms\n",
      "Wall time: 1.52 s\n"
     ]
    }
   ],
   "source": [
    "%%time\n",
    "event_stream = raw_response_with_roc['completion']\n",
    "for event in event_stream:\n",
    "    print(event)"
   ]
  },
  {
   "cell_type": "markdown",
   "id": "c4fceccf",
   "metadata": {},
   "source": [
    "### Show how ROC handles input text that cannot be resolved with available functions"
   ]
  },
  {
   "cell_type": "code",
   "execution_count": 27,
   "id": "d73776fd",
   "metadata": {},
   "outputs": [],
   "source": [
    "def simple_agent_roc_invoke(input_text, agent_id, agent_alias_id, session_id=None, enable_trace=False, end_session=False):\n",
    "    agentResponse = bedrock_agent_runtime_client.invoke_agent(\n",
    "        inputText=input_text,\n",
    "        agentId=agent_id,\n",
    "        agentAliasId=agent_alias_id, \n",
    "        sessionId=session_id,\n",
    "        enableTrace=enable_trace, \n",
    "        endSession= end_session\n",
    "    )\n",
    "    logger.info(pprint.pprint(agentResponse))\n",
    "    event_stream = agentResponse['completion']\n",
    "    try:\n",
    "         for event in event_stream:        \n",
    "            if 'chunk' in event:\n",
    "                data = event['chunk']['bytes']\n",
    "                logger.info(f\"Final answer ->\\n{data.decode('utf8')}\")\n",
    "                agent_answer = data.decode('utf8')\n",
    "                end_event_received = True\n",
    "                # End event indicates that the request finished successfully\n",
    "            elif 'trace' in event:\n",
    "                logger.info(json.dumps(event['trace'], indent=2))\n",
    "            elif 'returnControl' in event:\n",
    "                pprint.pp(event)\n",
    "            else:\n",
    "                raise Exception(\"unexpected event.\", event)\n",
    "    except Exception as e:\n",
    "        raise Exception(\"unexpected event.\", e)\n"
   ]
  },
  {
   "cell_type": "markdown",
   "id": "0d814c81",
   "metadata": {},
   "source": [
    "First show a request that has nothing to do with the agent and its available functions."
   ]
  },
  {
   "cell_type": "code",
   "execution_count": 28,
   "id": "b041202c",
   "metadata": {},
   "outputs": [
    {
     "name": "stderr",
     "output_type": "stream",
     "text": [
      "[2024-08-19 03:46:50,564] p136 {492633146.py:10} INFO - None\n"
     ]
    },
    {
     "name": "stdout",
     "output_type": "stream",
     "text": [
      "{'ResponseMetadata': {'HTTPHeaders': {'connection': 'keep-alive',\n",
      "                                      'content-type': 'application/json',\n",
      "                                      'date': 'Mon, 19 Aug 2024 03:46:50 GMT',\n",
      "                                      'transfer-encoding': 'chunked',\n",
      "                                      'x-amz-bedrock-agent-session-id': 'a6f17c1e-5ddd-11ef-979b-8a6da4867660',\n",
      "                                      'x-amzn-bedrock-agent-content-type': 'application/json',\n",
      "                                      'x-amzn-requestid': '954dbc43-1edc-4ec0-a0fa-fc4eaff4a425'},\n",
      "                      'HTTPStatusCode': 200,\n",
      "                      'RequestId': '954dbc43-1edc-4ec0-a0fa-fc4eaff4a425',\n",
      "                      'RetryAttempts': 0},\n",
      " 'completion': <botocore.eventstream.EventStream object at 0x7f7beb7a4bb0>,\n",
      " 'contentType': 'application/json',\n",
      " 'sessionId': 'a6f17c1e-5ddd-11ef-979b-8a6da4867660'}\n"
     ]
    },
    {
     "name": "stderr",
     "output_type": "stream",
     "text": [
      "[2024-08-19 03:46:53,803] p136 {492633146.py:16} INFO - Final answer ->\n",
      "Sorry, I don't have information about political leaders or positions outside of HR policies and employee vacation management. Is there something related to vacation time or HR policies that I can assist you with?\n"
     ]
    }
   ],
   "source": [
    "simple_agent_roc_invoke(\"who is the president of the United States?\", agent_id, agent_alias_id, session_id)\n"
   ]
  },
  {
   "cell_type": "markdown",
   "id": "5ce27afc",
   "metadata": {},
   "source": [
    "Now show what happens when insufficient parameters were provided. In this case, no vacation start date."
   ]
  },
  {
   "cell_type": "code",
   "execution_count": 29,
   "id": "9df7dcb6",
   "metadata": {},
   "outputs": [
    {
     "name": "stderr",
     "output_type": "stream",
     "text": [
      "[2024-08-19 03:46:53,856] p136 {492633146.py:10} INFO - None\n"
     ]
    },
    {
     "name": "stdout",
     "output_type": "stream",
     "text": [
      "{'ResponseMetadata': {'HTTPHeaders': {'connection': 'keep-alive',\n",
      "                                      'content-type': 'application/json',\n",
      "                                      'date': 'Mon, 19 Aug 2024 03:46:53 GMT',\n",
      "                                      'transfer-encoding': 'chunked',\n",
      "                                      'x-amz-bedrock-agent-session-id': 'a6f17c1e-5ddd-11ef-979b-8a6da4867660',\n",
      "                                      'x-amzn-bedrock-agent-content-type': 'application/json',\n",
      "                                      'x-amzn-requestid': 'd5e4846b-4292-4112-b7bb-4caf1189dd97'},\n",
      "                      'HTTPStatusCode': 200,\n",
      "                      'RequestId': 'd5e4846b-4292-4112-b7bb-4caf1189dd97',\n",
      "                      'RetryAttempts': 0},\n",
      " 'completion': <botocore.eventstream.EventStream object at 0x7f7beb7a7910>,\n",
      " 'contentType': 'application/json',\n",
      " 'sessionId': 'a6f17c1e-5ddd-11ef-979b-8a6da4867660'}\n",
      "{'returnControl': {'invocationId': '7ad6835c-69a9-4c1c-96bf-b7546f3da924',\n",
      "                   'invocationInputs': [{'functionInvocationInput': {'actionGroup': 'VacationsActionGroup',\n",
      "                                                                     'function': 'reserve_vacation_time',\n",
      "                                                                     'parameters': [{'name': 'end_date',\n",
      "                                                                                     'type': 'string',\n",
      "                                                                                     'value': '2023-06-02'},\n",
      "                                                                                    {'name': 'employee_id',\n",
      "                                                                                     'type': 'integer',\n",
      "                                                                                     'value': '2'},\n",
      "                                                                                    {'name': 'start_date',\n",
      "                                                                                     'type': 'string',\n",
      "                                                                                     'value': '2023-06-01'}]}}]}}\n"
     ]
    }
   ],
   "source": [
    "simple_agent_roc_invoke(\"reserve 2 days off for employee 2\", agent_id, agent_alias_id, session_id)"
   ]
  },
  {
   "cell_type": "markdown",
   "id": "ee86a091-a966-4a3f-949d-4f72f7058c4b",
   "metadata": {},
   "source": [
    "## Clean up (optional)\n",
    "\n",
    "The next steps are optional and demonstrate how to delete our agent. To delete the agent we need to:\n",
    "\n",
    "1. update the action group to disable it\n",
    "2. delete agent action group\n",
    "4. delete agent\n",
    "6. delete the created IAM roles and policies\n"
   ]
  },
  {
   "cell_type": "code",
   "execution_count": 30,
   "id": "f4e45972-8b18-42f8-90a5-d647c02b38bb",
   "metadata": {
    "tags": []
   },
   "outputs": [],
   "source": [
    "# This is not needed, you can delete agent successfully after deleting alias only\n",
    "# Additionaly, you need to disable it first\n",
    "action_group_id = agent_action_group_response['agentActionGroup']['actionGroupId']\n",
    "action_group_name = agent_action_group_response['agentActionGroup']['actionGroupName']\n",
    "\n",
    "response = bedrock_agent_client.update_agent_action_group(\n",
    "    agentId=agent_id,\n",
    "    agentVersion='DRAFT',\n",
    "    actionGroupId= action_group_id,\n",
    "    actionGroupName=action_group_name,\n",
    "    actionGroupExecutor={\n",
    "        'customControl': 'RETURN_CONTROL'\n",
    "    },\n",
    "    functionSchema={\n",
    "        'functions': agent_functions\n",
    "    },\n",
    "    actionGroupState='DISABLED',\n",
    ")\n",
    "\n",
    "action_group_deletion = bedrock_agent_client.delete_agent_action_group(\n",
    "    agentId=agent_id,\n",
    "    agentVersion='DRAFT',\n",
    "    actionGroupId= action_group_id\n",
    ")"
   ]
  },
  {
   "cell_type": "code",
   "execution_count": 31,
   "id": "6bb1ba93-39ee-46c4-80e0-07854eb9ca33",
   "metadata": {
    "tags": []
   },
   "outputs": [],
   "source": [
    "agent_deletion = bedrock_agent_client.delete_agent(\n",
    "    agentId=agent_id\n",
    ")"
   ]
  },
  {
   "cell_type": "code",
   "execution_count": 32,
   "id": "5dc0d7e0-b867-4e16-8f85-b7c7d95469d3",
   "metadata": {
    "tags": []
   },
   "outputs": [],
   "source": [
    "# Delete IAM Roles and policies\n",
    "\n",
    "for policy in [agent_bedrock_allow_policy_name]:\n",
    "    iam_client.detach_role_policy(RoleName=agent_role_name, PolicyArn=f'arn:aws:iam::{account_id}:policy/{policy}')\n",
    "    \n",
    "for role_name in [agent_role_name]:\n",
    "    iam_client.delete_role(\n",
    "        RoleName=role_name\n",
    "    )\n",
    "\n",
    "for policy in [agent_bedrock_policy]:\n",
    "    iam_client.delete_policy(\n",
    "        PolicyArn=policy['Policy']['Arn']\n",
    ")\n"
   ]
  },
  {
   "cell_type": "markdown",
   "id": "25e995a3-7842-4bcc-93e9-759b6b3b6722",
   "metadata": {},
   "source": [
    "## Conclusion\n",
    "We have now experimented with using boto3 SDK to create, invoke and delete an agent created using function definitions.\n",
    "\n",
    "## Take aways\n",
    "Adapt this notebook to create new agents using function definitions for your application\n",
    "\n",
    "## Thank You"
   ]
  }
 ],
 "metadata": {
  "availableInstances": [
   {
    "_defaultOrder": 0,
    "_isFastLaunch": true,
    "category": "General purpose",
    "gpuNum": 0,
    "hideHardwareSpecs": false,
    "memoryGiB": 4,
    "name": "ml.t3.medium",
    "vcpuNum": 2
   },
   {
    "_defaultOrder": 1,
    "_isFastLaunch": false,
    "category": "General purpose",
    "gpuNum": 0,
    "hideHardwareSpecs": false,
    "memoryGiB": 8,
    "name": "ml.t3.large",
    "vcpuNum": 2
   },
   {
    "_defaultOrder": 2,
    "_isFastLaunch": false,
    "category": "General purpose",
    "gpuNum": 0,
    "hideHardwareSpecs": false,
    "memoryGiB": 16,
    "name": "ml.t3.xlarge",
    "vcpuNum": 4
   },
   {
    "_defaultOrder": 3,
    "_isFastLaunch": false,
    "category": "General purpose",
    "gpuNum": 0,
    "hideHardwareSpecs": false,
    "memoryGiB": 32,
    "name": "ml.t3.2xlarge",
    "vcpuNum": 8
   },
   {
    "_defaultOrder": 4,
    "_isFastLaunch": true,
    "category": "General purpose",
    "gpuNum": 0,
    "hideHardwareSpecs": false,
    "memoryGiB": 8,
    "name": "ml.m5.large",
    "vcpuNum": 2
   },
   {
    "_defaultOrder": 5,
    "_isFastLaunch": false,
    "category": "General purpose",
    "gpuNum": 0,
    "hideHardwareSpecs": false,
    "memoryGiB": 16,
    "name": "ml.m5.xlarge",
    "vcpuNum": 4
   },
   {
    "_defaultOrder": 6,
    "_isFastLaunch": false,
    "category": "General purpose",
    "gpuNum": 0,
    "hideHardwareSpecs": false,
    "memoryGiB": 32,
    "name": "ml.m5.2xlarge",
    "vcpuNum": 8
   },
   {
    "_defaultOrder": 7,
    "_isFastLaunch": false,
    "category": "General purpose",
    "gpuNum": 0,
    "hideHardwareSpecs": false,
    "memoryGiB": 64,
    "name": "ml.m5.4xlarge",
    "vcpuNum": 16
   },
   {
    "_defaultOrder": 8,
    "_isFastLaunch": false,
    "category": "General purpose",
    "gpuNum": 0,
    "hideHardwareSpecs": false,
    "memoryGiB": 128,
    "name": "ml.m5.8xlarge",
    "vcpuNum": 32
   },
   {
    "_defaultOrder": 9,
    "_isFastLaunch": false,
    "category": "General purpose",
    "gpuNum": 0,
    "hideHardwareSpecs": false,
    "memoryGiB": 192,
    "name": "ml.m5.12xlarge",
    "vcpuNum": 48
   },
   {
    "_defaultOrder": 10,
    "_isFastLaunch": false,
    "category": "General purpose",
    "gpuNum": 0,
    "hideHardwareSpecs": false,
    "memoryGiB": 256,
    "name": "ml.m5.16xlarge",
    "vcpuNum": 64
   },
   {
    "_defaultOrder": 11,
    "_isFastLaunch": false,
    "category": "General purpose",
    "gpuNum": 0,
    "hideHardwareSpecs": false,
    "memoryGiB": 384,
    "name": "ml.m5.24xlarge",
    "vcpuNum": 96
   },
   {
    "_defaultOrder": 12,
    "_isFastLaunch": false,
    "category": "General purpose",
    "gpuNum": 0,
    "hideHardwareSpecs": false,
    "memoryGiB": 8,
    "name": "ml.m5d.large",
    "vcpuNum": 2
   },
   {
    "_defaultOrder": 13,
    "_isFastLaunch": false,
    "category": "General purpose",
    "gpuNum": 0,
    "hideHardwareSpecs": false,
    "memoryGiB": 16,
    "name": "ml.m5d.xlarge",
    "vcpuNum": 4
   },
   {
    "_defaultOrder": 14,
    "_isFastLaunch": false,
    "category": "General purpose",
    "gpuNum": 0,
    "hideHardwareSpecs": false,
    "memoryGiB": 32,
    "name": "ml.m5d.2xlarge",
    "vcpuNum": 8
   },
   {
    "_defaultOrder": 15,
    "_isFastLaunch": false,
    "category": "General purpose",
    "gpuNum": 0,
    "hideHardwareSpecs": false,
    "memoryGiB": 64,
    "name": "ml.m5d.4xlarge",
    "vcpuNum": 16
   },
   {
    "_defaultOrder": 16,
    "_isFastLaunch": false,
    "category": "General purpose",
    "gpuNum": 0,
    "hideHardwareSpecs": false,
    "memoryGiB": 128,
    "name": "ml.m5d.8xlarge",
    "vcpuNum": 32
   },
   {
    "_defaultOrder": 17,
    "_isFastLaunch": false,
    "category": "General purpose",
    "gpuNum": 0,
    "hideHardwareSpecs": false,
    "memoryGiB": 192,
    "name": "ml.m5d.12xlarge",
    "vcpuNum": 48
   },
   {
    "_defaultOrder": 18,
    "_isFastLaunch": false,
    "category": "General purpose",
    "gpuNum": 0,
    "hideHardwareSpecs": false,
    "memoryGiB": 256,
    "name": "ml.m5d.16xlarge",
    "vcpuNum": 64
   },
   {
    "_defaultOrder": 19,
    "_isFastLaunch": false,
    "category": "General purpose",
    "gpuNum": 0,
    "hideHardwareSpecs": false,
    "memoryGiB": 384,
    "name": "ml.m5d.24xlarge",
    "vcpuNum": 96
   },
   {
    "_defaultOrder": 20,
    "_isFastLaunch": false,
    "category": "General purpose",
    "gpuNum": 0,
    "hideHardwareSpecs": true,
    "memoryGiB": 0,
    "name": "ml.geospatial.interactive",
    "supportedImageNames": [
     "sagemaker-geospatial-v1-0"
    ],
    "vcpuNum": 0
   },
   {
    "_defaultOrder": 21,
    "_isFastLaunch": true,
    "category": "Compute optimized",
    "gpuNum": 0,
    "hideHardwareSpecs": false,
    "memoryGiB": 4,
    "name": "ml.c5.large",
    "vcpuNum": 2
   },
   {
    "_defaultOrder": 22,
    "_isFastLaunch": false,
    "category": "Compute optimized",
    "gpuNum": 0,
    "hideHardwareSpecs": false,
    "memoryGiB": 8,
    "name": "ml.c5.xlarge",
    "vcpuNum": 4
   },
   {
    "_defaultOrder": 23,
    "_isFastLaunch": false,
    "category": "Compute optimized",
    "gpuNum": 0,
    "hideHardwareSpecs": false,
    "memoryGiB": 16,
    "name": "ml.c5.2xlarge",
    "vcpuNum": 8
   },
   {
    "_defaultOrder": 24,
    "_isFastLaunch": false,
    "category": "Compute optimized",
    "gpuNum": 0,
    "hideHardwareSpecs": false,
    "memoryGiB": 32,
    "name": "ml.c5.4xlarge",
    "vcpuNum": 16
   },
   {
    "_defaultOrder": 25,
    "_isFastLaunch": false,
    "category": "Compute optimized",
    "gpuNum": 0,
    "hideHardwareSpecs": false,
    "memoryGiB": 72,
    "name": "ml.c5.9xlarge",
    "vcpuNum": 36
   },
   {
    "_defaultOrder": 26,
    "_isFastLaunch": false,
    "category": "Compute optimized",
    "gpuNum": 0,
    "hideHardwareSpecs": false,
    "memoryGiB": 96,
    "name": "ml.c5.12xlarge",
    "vcpuNum": 48
   },
   {
    "_defaultOrder": 27,
    "_isFastLaunch": false,
    "category": "Compute optimized",
    "gpuNum": 0,
    "hideHardwareSpecs": false,
    "memoryGiB": 144,
    "name": "ml.c5.18xlarge",
    "vcpuNum": 72
   },
   {
    "_defaultOrder": 28,
    "_isFastLaunch": false,
    "category": "Compute optimized",
    "gpuNum": 0,
    "hideHardwareSpecs": false,
    "memoryGiB": 192,
    "name": "ml.c5.24xlarge",
    "vcpuNum": 96
   },
   {
    "_defaultOrder": 29,
    "_isFastLaunch": true,
    "category": "Accelerated computing",
    "gpuNum": 1,
    "hideHardwareSpecs": false,
    "memoryGiB": 16,
    "name": "ml.g4dn.xlarge",
    "vcpuNum": 4
   },
   {
    "_defaultOrder": 30,
    "_isFastLaunch": false,
    "category": "Accelerated computing",
    "gpuNum": 1,
    "hideHardwareSpecs": false,
    "memoryGiB": 32,
    "name": "ml.g4dn.2xlarge",
    "vcpuNum": 8
   },
   {
    "_defaultOrder": 31,
    "_isFastLaunch": false,
    "category": "Accelerated computing",
    "gpuNum": 1,
    "hideHardwareSpecs": false,
    "memoryGiB": 64,
    "name": "ml.g4dn.4xlarge",
    "vcpuNum": 16
   },
   {
    "_defaultOrder": 32,
    "_isFastLaunch": false,
    "category": "Accelerated computing",
    "gpuNum": 1,
    "hideHardwareSpecs": false,
    "memoryGiB": 128,
    "name": "ml.g4dn.8xlarge",
    "vcpuNum": 32
   },
   {
    "_defaultOrder": 33,
    "_isFastLaunch": false,
    "category": "Accelerated computing",
    "gpuNum": 4,
    "hideHardwareSpecs": false,
    "memoryGiB": 192,
    "name": "ml.g4dn.12xlarge",
    "vcpuNum": 48
   },
   {
    "_defaultOrder": 34,
    "_isFastLaunch": false,
    "category": "Accelerated computing",
    "gpuNum": 1,
    "hideHardwareSpecs": false,
    "memoryGiB": 256,
    "name": "ml.g4dn.16xlarge",
    "vcpuNum": 64
   },
   {
    "_defaultOrder": 35,
    "_isFastLaunch": false,
    "category": "Accelerated computing",
    "gpuNum": 1,
    "hideHardwareSpecs": false,
    "memoryGiB": 61,
    "name": "ml.p3.2xlarge",
    "vcpuNum": 8
   },
   {
    "_defaultOrder": 36,
    "_isFastLaunch": false,
    "category": "Accelerated computing",
    "gpuNum": 4,
    "hideHardwareSpecs": false,
    "memoryGiB": 244,
    "name": "ml.p3.8xlarge",
    "vcpuNum": 32
   },
   {
    "_defaultOrder": 37,
    "_isFastLaunch": false,
    "category": "Accelerated computing",
    "gpuNum": 8,
    "hideHardwareSpecs": false,
    "memoryGiB": 488,
    "name": "ml.p3.16xlarge",
    "vcpuNum": 64
   },
   {
    "_defaultOrder": 38,
    "_isFastLaunch": false,
    "category": "Accelerated computing",
    "gpuNum": 8,
    "hideHardwareSpecs": false,
    "memoryGiB": 768,
    "name": "ml.p3dn.24xlarge",
    "vcpuNum": 96
   },
   {
    "_defaultOrder": 39,
    "_isFastLaunch": false,
    "category": "Memory Optimized",
    "gpuNum": 0,
    "hideHardwareSpecs": false,
    "memoryGiB": 16,
    "name": "ml.r5.large",
    "vcpuNum": 2
   },
   {
    "_defaultOrder": 40,
    "_isFastLaunch": false,
    "category": "Memory Optimized",
    "gpuNum": 0,
    "hideHardwareSpecs": false,
    "memoryGiB": 32,
    "name": "ml.r5.xlarge",
    "vcpuNum": 4
   },
   {
    "_defaultOrder": 41,
    "_isFastLaunch": false,
    "category": "Memory Optimized",
    "gpuNum": 0,
    "hideHardwareSpecs": false,
    "memoryGiB": 64,
    "name": "ml.r5.2xlarge",
    "vcpuNum": 8
   },
   {
    "_defaultOrder": 42,
    "_isFastLaunch": false,
    "category": "Memory Optimized",
    "gpuNum": 0,
    "hideHardwareSpecs": false,
    "memoryGiB": 128,
    "name": "ml.r5.4xlarge",
    "vcpuNum": 16
   },
   {
    "_defaultOrder": 43,
    "_isFastLaunch": false,
    "category": "Memory Optimized",
    "gpuNum": 0,
    "hideHardwareSpecs": false,
    "memoryGiB": 256,
    "name": "ml.r5.8xlarge",
    "vcpuNum": 32
   },
   {
    "_defaultOrder": 44,
    "_isFastLaunch": false,
    "category": "Memory Optimized",
    "gpuNum": 0,
    "hideHardwareSpecs": false,
    "memoryGiB": 384,
    "name": "ml.r5.12xlarge",
    "vcpuNum": 48
   },
   {
    "_defaultOrder": 45,
    "_isFastLaunch": false,
    "category": "Memory Optimized",
    "gpuNum": 0,
    "hideHardwareSpecs": false,
    "memoryGiB": 512,
    "name": "ml.r5.16xlarge",
    "vcpuNum": 64
   },
   {
    "_defaultOrder": 46,
    "_isFastLaunch": false,
    "category": "Memory Optimized",
    "gpuNum": 0,
    "hideHardwareSpecs": false,
    "memoryGiB": 768,
    "name": "ml.r5.24xlarge",
    "vcpuNum": 96
   },
   {
    "_defaultOrder": 47,
    "_isFastLaunch": false,
    "category": "Accelerated computing",
    "gpuNum": 1,
    "hideHardwareSpecs": false,
    "memoryGiB": 16,
    "name": "ml.g5.xlarge",
    "vcpuNum": 4
   },
   {
    "_defaultOrder": 48,
    "_isFastLaunch": false,
    "category": "Accelerated computing",
    "gpuNum": 1,
    "hideHardwareSpecs": false,
    "memoryGiB": 32,
    "name": "ml.g5.2xlarge",
    "vcpuNum": 8
   },
   {
    "_defaultOrder": 49,
    "_isFastLaunch": false,
    "category": "Accelerated computing",
    "gpuNum": 1,
    "hideHardwareSpecs": false,
    "memoryGiB": 64,
    "name": "ml.g5.4xlarge",
    "vcpuNum": 16
   },
   {
    "_defaultOrder": 50,
    "_isFastLaunch": false,
    "category": "Accelerated computing",
    "gpuNum": 1,
    "hideHardwareSpecs": false,
    "memoryGiB": 128,
    "name": "ml.g5.8xlarge",
    "vcpuNum": 32
   },
   {
    "_defaultOrder": 51,
    "_isFastLaunch": false,
    "category": "Accelerated computing",
    "gpuNum": 1,
    "hideHardwareSpecs": false,
    "memoryGiB": 256,
    "name": "ml.g5.16xlarge",
    "vcpuNum": 64
   },
   {
    "_defaultOrder": 52,
    "_isFastLaunch": false,
    "category": "Accelerated computing",
    "gpuNum": 4,
    "hideHardwareSpecs": false,
    "memoryGiB": 192,
    "name": "ml.g5.12xlarge",
    "vcpuNum": 48
   },
   {
    "_defaultOrder": 53,
    "_isFastLaunch": false,
    "category": "Accelerated computing",
    "gpuNum": 4,
    "hideHardwareSpecs": false,
    "memoryGiB": 384,
    "name": "ml.g5.24xlarge",
    "vcpuNum": 96
   },
   {
    "_defaultOrder": 54,
    "_isFastLaunch": false,
    "category": "Accelerated computing",
    "gpuNum": 8,
    "hideHardwareSpecs": false,
    "memoryGiB": 768,
    "name": "ml.g5.48xlarge",
    "vcpuNum": 192
   },
   {
    "_defaultOrder": 55,
    "_isFastLaunch": false,
    "category": "Accelerated computing",
    "gpuNum": 8,
    "hideHardwareSpecs": false,
    "memoryGiB": 1152,
    "name": "ml.p4d.24xlarge",
    "vcpuNum": 96
   },
   {
    "_defaultOrder": 56,
    "_isFastLaunch": false,
    "category": "Accelerated computing",
    "gpuNum": 8,
    "hideHardwareSpecs": false,
    "memoryGiB": 1152,
    "name": "ml.p4de.24xlarge",
    "vcpuNum": 96
   },
   {
    "_defaultOrder": 57,
    "_isFastLaunch": false,
    "category": "Accelerated computing",
    "gpuNum": 0,
    "hideHardwareSpecs": false,
    "memoryGiB": 32,
    "name": "ml.trn1.2xlarge",
    "vcpuNum": 8
   },
   {
    "_defaultOrder": 58,
    "_isFastLaunch": false,
    "category": "Accelerated computing",
    "gpuNum": 0,
    "hideHardwareSpecs": false,
    "memoryGiB": 512,
    "name": "ml.trn1.32xlarge",
    "vcpuNum": 128
   },
   {
    "_defaultOrder": 59,
    "_isFastLaunch": false,
    "category": "Accelerated computing",
    "gpuNum": 0,
    "hideHardwareSpecs": false,
    "memoryGiB": 512,
    "name": "ml.trn1n.32xlarge",
    "vcpuNum": 128
   }
  ],
  "instance_type": "ml.t3.medium",
  "kernelspec": {
   "display_name": "Python 3 (Data Science 3.0)",
   "language": "python",
   "name": "python3__SAGEMAKER_INTERNAL__arn:aws:sagemaker:us-west-2:236514542706:image/sagemaker-data-science-310-v1"
  },
  "language_info": {
   "codemirror_mode": {
    "name": "ipython",
    "version": 3
   },
   "file_extension": ".py",
   "mimetype": "text/x-python",
   "name": "python",
   "nbconvert_exporter": "python",
   "pygments_lexer": "ipython3",
   "version": "3.10.6"
  }
 },
 "nbformat": 4,
 "nbformat_minor": 5
}
